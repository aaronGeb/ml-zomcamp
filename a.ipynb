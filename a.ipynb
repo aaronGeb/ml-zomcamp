{
 "cells": [
  {
   "cell_type": "code",
   "execution_count": 13,
   "metadata": {},
   "outputs": [
    {
     "data": {
      "text/plain": [
       "[]"
      ]
     },
     "execution_count": 13,
     "metadata": {},
     "output_type": "execute_result"
    }
   ],
   "source": [
    "a = list(map(lambda *a:a,(),'abc',range(4,7)))\n",
    "a"
   ]
  },
  {
   "cell_type": "code",
   "execution_count": 10,
   "metadata": {},
   "outputs": [
    {
     "data": {
      "text/plain": [
       "(0, 1)"
      ]
     },
     "execution_count": 10,
     "metadata": {},
     "output_type": "execute_result"
    }
   ],
   "source": [
    "a[0]+a[1]"
   ]
  },
  {
   "cell_type": "code",
   "execution_count": 33,
   "metadata": {},
   "outputs": [
    {
     "data": {
      "text/plain": [
       "[{'id': 0, 'credits': {'math': 9, 'physics': 6, 'history': 7}},\n",
       " {'id': 1, 'credits': {'math': 0, 'physics': 7, 'latin': 10}},\n",
       " {'id': 2, 'credits': {'history': 8, 'physics': 9, 'chemistry': 10}},\n",
       " {'id': 3, 'credits': {'math': 5, 'physics': 5, 'geography': 7}}]"
      ]
     },
     "execution_count": 33,
     "metadata": {},
     "output_type": "execute_result"
    }
   ],
   "source": [
    "students = [\n",
    "      dict(id=0, credits=dict(math=9, physics=6, history=7)),\n",
    "      dict(id=1, credits=dict(math=0, physics=7, latin=10)),\n",
    "      dict(id=2, credits=dict(history=8, physics=9, chemistry=10)),\n",
    "      dict(id=3, credits=dict(math=5, physics=5, geography=7)),\n",
    "]\n",
    "students"
   ]
  },
  {
   "cell_type": "code",
   "execution_count": 20,
   "metadata": {},
   "outputs": [
    {
     "data": {
      "text/plain": [
       "[27, 23, 22, 17]"
      ]
     },
     "execution_count": 20,
     "metadata": {},
     "output_type": "execute_result"
    }
   ],
   "source": [
    "sum_credit = list(map(lambda student: sum(student['credits'].values()), students))\n",
    "sum_credit.sort(reverse=True)\n",
    "sum_credit"
   ]
  },
  {
   "cell_type": "code",
   "execution_count": 34,
   "metadata": {},
   "outputs": [],
   "source": [
    "def my_dun(d):\n",
    "  return sorted(list(map(lambda x: sum(x['credits'].values()), d)),reverse=True)\n",
    "\n"
   ]
  },
  {
   "cell_type": "code",
   "execution_count": 35,
   "metadata": {},
   "outputs": [
    {
     "data": {
      "text/plain": [
       "[27, 22, 17, 17]"
      ]
     },
     "execution_count": 35,
     "metadata": {},
     "output_type": "execute_result"
    }
   ],
   "source": [
    "my_dun(students)"
   ]
  },
  {
   "cell_type": "code",
   "execution_count": 36,
   "metadata": {},
   "outputs": [
    {
     "name": "stdout",
     "output_type": "stream",
     "text": [
      "[{'id': 0, 'total_credits': 22}, {'id': 1, 'total_credits': 23}, {'id': 2, 'total_credits': 27}, {'id': 3, 'total_credits': 17}]\n"
     ]
    }
   ],
   "source": [
    "students = [\n",
    "    dict(id=0, credits=dict(math=9, physics=6, history=7)),\n",
    "    dict(id=1, credits=dict(math=6, physics=7, latin=10)),\n",
    "    dict(id=2, credits=dict(history=8, physics=9, chemistry=10)),\n",
    "    dict(id=3, credits=dict(math=5, physics=5, geography=7)),\n",
    "]\n",
    "\n",
    "# Using map and lambda to sum the credits and include the id\n",
    "credits_with_id = list(map(lambda student: {'id': student['id'], 'total_credits': sum(student['credits'].values())}, students))\n",
    "\n",
    "print(credits_with_id)"
   ]
  }
 ],
 "metadata": {
  "kernelspec": {
   "display_name": "ml-zoomcamp",
   "language": "python",
   "name": "python3"
  },
  "language_info": {
   "codemirror_mode": {
    "name": "ipython",
    "version": 3
   },
   "file_extension": ".py",
   "mimetype": "text/x-python",
   "name": "python",
   "nbconvert_exporter": "python",
   "pygments_lexer": "ipython3",
   "version": "3.11.9"
  }
 },
 "nbformat": 4,
 "nbformat_minor": 2
}
